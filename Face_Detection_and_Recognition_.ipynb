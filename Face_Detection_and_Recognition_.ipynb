{
  "nbformat": 4,
  "nbformat_minor": 0,
  "metadata": {
    "colab": {
      "provenance": [],
      "authorship_tag": "ABX9TyPe+fpEGWi2gWxDCEUQWPfV",
      "include_colab_link": true
    },
    "kernelspec": {
      "name": "python3",
      "display_name": "Python 3"
    },
    "language_info": {
      "name": "python"
    }
  },
  "cells": [
    {
      "cell_type": "markdown",
      "metadata": {
        "id": "view-in-github",
        "colab_type": "text"
      },
      "source": [
        "<a href=\"https://colab.research.google.com/github/vijaykumar-555/CODSOFT/blob/main/Face_Detection_and_Recognition_.ipynb\" target=\"_parent\"><img src=\"https://colab.research.google.com/assets/colab-badge.svg\" alt=\"Open In Colab\"/></a>"
      ]
    },
    {
      "cell_type": "code",
      "source": [
        "import cv2\n",
        "\n",
        "face_classifier = cv2.CascadeClassifier(\n",
        "    cv2.data.haarcascades + \"haarcascade_frontalface_default.xml\"\n",
        ")\n",
        "video_capture = cv2.VideoCapture(0)\n",
        "def detect_bounding_box(vid):\n",
        "    gray_image = cv2.cvtColor(vid, cv2.COLOR_BGR2GRAY)\n",
        "    faces = face_classifier.detectMultiScale(gray_image, 1.1, 5, minSize=(40, 40))\n",
        "    for (x, y, w, h) in faces:\n",
        "        cv2.rectangle(vid, (x, y), (x + w, y + h), (0, 255, 0), 4)\n",
        "    return faces\n",
        "while True:\n",
        "\n",
        "    result, video_frame = video_capture.read()  # read frames from the video\n",
        "    if result is False:\n",
        "        break\n",
        "\n",
        "    faces = detect_bounding_box(\n",
        "        video_frame\n",
        "    )  # apply the function we created to the video frame\n",
        "\n",
        "    cv2.imshow(\n",
        "        \"My Face Detection Project\", video_frame\n",
        "    )\n",
        "\n",
        "    if cv2.waitKey(1) & 0xFF == ord(\"q\"):\n",
        "        break\n",
        "\n",
        "video_capture.release()\n",
        "cv2.destroyAllWindows()"
      ],
      "metadata": {
        "id": "_cyCCYXHqUFd"
      },
      "execution_count": 3,
      "outputs": []
    }
  ]
}