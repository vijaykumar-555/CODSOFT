{
  "nbformat": 4,
  "nbformat_minor": 0,
  "metadata": {
    "colab": {
      "provenance": []
    },
    "kernelspec": {
      "name": "python3",
      "display_name": "Python 3"
    },
    "language_info": {
      "name": "python"
    }
  },
  "cells": [
    {
      "cell_type": "code",
      "execution_count": null,
      "metadata": {
        "colab": {
          "base_uri": "https://localhost:8080/"
        },
        "id": "k-x_cyhwb-xM",
        "outputId": "6e53321a-d98b-4da3-ff9e-e1fcb9265605"
      },
      "outputs": [
        {
          "output_type": "stream",
          "name": "stdout",
          "text": [
            "You:good morning\n",
            "Chatbot: Good Morning, How may I help you!\n"
          ]
        }
      ],
      "source": [
        "# Define a function to handle user inputs\n",
        "def chatbot_response(user_input):\n",
        "    user_input = user_input.lower()\n",
        "\n",
        "    if \"hello\" in user_input:\n",
        "        return \"Hello! How can I assist you today?\"\n",
        "    elif \"how are you\" in user_input:\n",
        "        return \"I'm just a computer program, but I'm here to help you!\"\n",
        "    elif \"goodbye\" in user_input:\n",
        "        return \"Goodbye! Have a great day!\"\n",
        "    elif \"good morning\" in user_input:\n",
        "        return \"Good Morning, How may I help you!\"\n",
        "    elif \"good evening\" in user_input:\n",
        "        return \"Good Evening, How was you'r day!\"\n",
        "    else:\n",
        "        return \"I'm sorry, I don't understand. Please try asking something else.\"\n",
        "\n",
        "while True:\n",
        "    user_input = input(\"You:\")\n",
        "    if user_input.lower() == \"exit\":\n",
        "        break\n",
        "    response = chatbot_response(user_input)\n",
        "    print(\"Chatbot:\", response)\n"
      ]
    }
  ]
}